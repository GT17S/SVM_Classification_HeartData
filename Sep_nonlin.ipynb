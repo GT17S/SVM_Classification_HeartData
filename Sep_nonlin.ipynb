{
 "cells": [
  {
   "cell_type": "code",
   "execution_count": null,
   "metadata": {},
   "outputs": [],
   "source": [
    "### Importation des bibliothèques nécessaires\n",
    "import numpy as np\n",
    "import pandas as pd\n",
    "import matplotlib.pyplot as plt\n",
    "from sklearn.svm import SVC\n",
    "from sklearn.model_selection import GridSearchCV\n",
    "from sklearn.metrics import classification_report"
   ]
  },
  {
   "cell_type": "markdown",
   "metadata": {},
   "source": [
    "<h1>Importation des données:</h1>"
   ]
  },
  {
   "cell_type": "code",
   "execution_count": null,
   "metadata": {},
   "outputs": [],
   "source": [
    "### Simulation de données en 2D séparables linéairement\n",
    "#heartData = pd.read_csv('heart_statlog.csv')\n",
    "heartData = pd.read_csv('HeartData.csv', header= None)\n",
    "# Renommage des colonnes \n",
    "heartData.columns = ['age', 'sex', 'chest_pain', 'blood_press', \n",
    "                     'serum_chol', 'blood_sugar', 'electrocard', \n",
    "                     'max_heart_rate', 'induced_ang', 'oldpeak', \n",
    "                     'peak_st_seg', 'major_ves', 'thal', 'presence']\n",
    "\n",
    "# Decoupage de dataset pour les features et label\n",
    "x = heartData.drop('presence', axis=1)\n",
    "y = heartData['presence'].copy()\n",
    "\n",
    "heartData.head(3)"
   ]
  },
  {
   "cell_type": "markdown",
   "metadata": {},
   "source": [
    "<h1>Découpage et normalization des données:</h1>"
   ]
  },
  {
   "cell_type": "code",
   "execution_count": null,
   "metadata": {},
   "outputs": [],
   "source": [
    "from sklearn.model_selection import train_test_split  \n",
    "# Split des données à entrainer et à tester\n",
    "x_train, x_test, y_train, y_test= train_test_split(x, y, test_size= 0.25, shuffle=False,random_state=0)  \n"
   ]
  },
  {
   "cell_type": "code",
   "execution_count": null,
   "metadata": {},
   "outputs": [],
   "source": [
    "from sklearn.preprocessing import StandardScaler    \n",
    "# Normalisation des données avec meanScaler(StandardScaler)\n",
    "meanS_x= StandardScaler()    \n",
    "x_train= meanS_x.fit_transform(x_train)  \n",
    "x_test= meanS_x.transform(x_test)  "
   ]
  },
  {
   "cell_type": "code",
   "execution_count": null,
   "metadata": {},
   "outputs": [],
   "source": [
    "def plot_boundary(classifier, X, y):\n",
    "    import seaborn as sns\n",
    "    from matplotlib.colors import ListedColormap, LinearSegmentedColormap\n",
    "    X1, X2 = np.meshgrid(np.arange(start = X[:, 4].min() - 1, stop = X[:, 4].max() + 1, step = 0.01),\n",
    "                     np.arange(start = X[:, 7].min() - 1, stop = X[:, 7].max() + 1, step = 0.01))\n",
    "    Xpred = np.array([X1.ravel(), X2.ravel()] + [np.repeat(0, X1.ravel().size) for _ in range(11)]).T\n",
    "# Xpred now has a grid for x1 and x2 and average value (0) for x3 through x13\n",
    "    pred = classifier.predict(Xpred).reshape(X1.shape)   # is a matrix of 0's and 1's !\n",
    "    plt.contourf(X1, X2, pred,\n",
    "             alpha = 0.75,   cmap = 'winter')\n",
    "    sns.scatterplot(X[:,4], \n",
    "                X[:,7], \n",
    "                hue=y, \n",
    "                cmap = 'coolwarm',\n",
    "                s=30,style=y);\n",
    "    plt.title('Score : ' + str(classifier.score(X,y)))\n",
    "    plt.xlabel('Cholesterol')\n",
    "    plt.ylabel('Blood_pressure')"
   ]
  },
  {
   "cell_type": "markdown",
   "metadata": {},
   "source": [
    "<h1>GridSearchCV RBF estimation of best model</h1>"
   ]
  },
  {
   "cell_type": "code",
   "execution_count": null,
   "metadata": {
    "tags": []
   },
   "outputs": [],
   "source": [
    "### Procédure d'estimation d'un SVM pour différentes valeurs de C et \n",
    "### -> différentes fenêtres du noyau RBF (gamma)\n",
    "### -> GridSearchCV\n",
    "\n",
    "from sklearn import svm\n",
    "parameters = {'kernel': ['rbf'], 'gamma': np.logspace(-2, 1, 4), 'C': np.logspace(0, 4, 5)}\n",
    "svcRBF = svm.SVC(kernel='rbf',class_weight='balanced')\n",
    "grid = GridSearchCV(svcRBF, parameters, refit = True,cv=10)\n",
    "\n",
    "grid.fit(x_train, y_train)\n",
    "print(\"Accuracy est : \", grid.score(x_train, y_train))\n",
    "print(\"Les meilleurs parametres sont : \",grid.best_params_)\n",
    "\n"
   ]
  },
  {
   "cell_type": "code",
   "execution_count": null,
   "metadata": {},
   "outputs": [],
   "source": []
  },
  {
   "cell_type": "code",
   "execution_count": null,
   "metadata": {},
   "outputs": [],
   "source": [
    "plot_boundary(grid,x_train,y_train)\n",
    "plt.savefig(\"RBF.png\") \n",
    "\n",
    "plt.show()"
   ]
  },
  {
   "cell_type": "code",
   "execution_count": null,
   "metadata": {},
   "outputs": [],
   "source": []
  },
  {
   "cell_type": "code",
   "execution_count": null,
   "metadata": {},
   "outputs": [],
   "source": [
    "from sklearn.metrics import plot_confusion_matrix\n",
    "from sklearn.metrics import confusion_matrix\n",
    "import seaborn as sns\n",
    "\n",
    "# realisation de matrice de confusion\n",
    "y_pred = grid.predict(x_test)\n",
    "tn, fp, fn, tp=confusion_matrix(y_test,y_pred).ravel()\n",
    "print (\"tn :\" ,tn,\" fp :\",fp,\" fn: \",fn,\" tp :\",tp)\n",
    "\n",
    "# print classification report\n",
    "print(classification_report(y_test, y_pred))\n",
    "print(\"Le taux d'erreur est : \",(fp+fn)/(tn+tp+fp+fn))\n",
    "\n",
    "cf_matrix = confusion_matrix(y_test, y_pred)\n",
    "print(\"Confusion matrix\")\n",
    "print(cf_matrix)\n",
    "sns.heatmap(cf_matrix, annot=True)\n"
   ]
  },
  {
   "cell_type": "markdown",
   "metadata": {},
   "source": [
    "<h1>GridSearchCV POLY estimation of best model</h1>"
   ]
  },
  {
   "cell_type": "code",
   "execution_count": null,
   "metadata": {},
   "outputs": [],
   "source": [
    "parameters = {'kernel': ['poly'], 'degree': [1,2,3,4,5,6,7], 'C': np.logspace(-2, 2, 5)}\n",
    "from sklearn import svm\n",
    "\n",
    "svcPoly = svm.SVC(kernel='poly',class_weight='balanced')\n",
    "\n",
    "grid_poly = GridSearchCV(svcPoly, parameters, refit = True,cv=5,return_train_score=True,verbose=4)\n",
    "\n",
    "grid_poly.fit(x_train, y_train)\n",
    "\n"
   ]
  },
  {
   "cell_type": "code",
   "execution_count": null,
   "metadata": {},
   "outputs": [],
   "source": [
    "print(\"Accuracy of train est : \",grid_poly.score(x_train, y_train))\n",
    "print(\"Le meilleur parametre est : \",grid_poly.best_params_)\n"
   ]
  },
  {
   "cell_type": "code",
   "execution_count": null,
   "metadata": {},
   "outputs": [],
   "source": [
    "plot_boundary(grid_poly,x_train,y_train)\n",
    "plt.savefig(\"POLY.png\") \n",
    "\n",
    "plt.show()\n"
   ]
  },
  {
   "cell_type": "code",
   "execution_count": null,
   "metadata": {},
   "outputs": [],
   "source": [
    "from sklearn.metrics import plot_confusion_matrix\n",
    "from sklearn.metrics import confusion_matrix\n",
    "\n",
    "y_pred = grid_poly.predict(x_test)\n",
    "tn, fp, fn, tp=confusion_matrix(y_test,y_pred).ravel()\n",
    "print (\"tn :\" ,tn,\" fp :\",fp,\" fn: \",fn,\" tp :\",tp)\n",
    "\n",
    "# print classification report\n",
    "print(classification_report(y_test, y_pred))\n",
    "print(\"Le taux d'erreur est : \",(fp+fn)/(tn+tp+fp+fn))\n",
    "\n",
    "cf_matrix = confusion_matrix(y_test, y_pred)\n",
    "print(\"Confusion matrix\")\n",
    "print(cf_matrix)\n",
    "sns.heatmap(cf_matrix, annot=True)"
   ]
  },
  {
   "cell_type": "code",
   "execution_count": null,
   "metadata": {},
   "outputs": [],
   "source": []
  },
  {
   "cell_type": "markdown",
   "metadata": {},
   "source": []
  },
  {
   "cell_type": "code",
   "execution_count": null,
   "metadata": {},
   "outputs": [],
   "source": []
  },
  {
   "cell_type": "code",
   "execution_count": null,
   "metadata": {},
   "outputs": [],
   "source": []
  },
  {
   "cell_type": "code",
   "execution_count": null,
   "metadata": {},
   "outputs": [],
   "source": []
  }
 ],
 "metadata": {
  "kernelspec": {
   "display_name": "Python 3",
   "language": "python",
   "name": "python3"
  },
  "language_info": {
   "codemirror_mode": {
    "name": "ipython",
    "version": 3
   },
   "file_extension": ".py",
   "mimetype": "text/x-python",
   "name": "python",
   "nbconvert_exporter": "python",
   "pygments_lexer": "ipython3",
   "version": "3.8.5"
  }
 },
 "nbformat": 4,
 "nbformat_minor": 5
}
