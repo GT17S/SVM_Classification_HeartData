{
 "cells": [
  {
   "cell_type": "code",
   "execution_count": 1,
   "metadata": {},
   "outputs": [],
   "source": [
    "import numpy as np\n",
    "import pandas as pd\n",
    "import matplotlib.pyplot as plt\n",
    "from sklearn.svm import SVC\n",
    "from sklearn.model_selection import GridSearchCV\n",
    "from sklearn.metrics import classification_report"
   ]
  },
  {
   "cell_type": "markdown",
   "metadata": {},
   "source": [
    "<h1>Importation des données:</h1>"
   ]
  },
  {
   "cell_type": "code",
   "execution_count": 2,
   "metadata": {},
   "outputs": [
    {
     "data": {
      "text/html": [
       "<div>\n",
       "<style scoped>\n",
       "    .dataframe tbody tr th:only-of-type {\n",
       "        vertical-align: middle;\n",
       "    }\n",
       "\n",
       "    .dataframe tbody tr th {\n",
       "        vertical-align: top;\n",
       "    }\n",
       "\n",
       "    .dataframe thead th {\n",
       "        text-align: right;\n",
       "    }\n",
       "</style>\n",
       "<table border=\"1\" class=\"dataframe\">\n",
       "  <thead>\n",
       "    <tr style=\"text-align: right;\">\n",
       "      <th></th>\n",
       "      <th>age</th>\n",
       "      <th>sex</th>\n",
       "      <th>chest_pain</th>\n",
       "      <th>blood_press</th>\n",
       "      <th>serum_chol</th>\n",
       "      <th>blood_sugar</th>\n",
       "      <th>electrocard</th>\n",
       "      <th>max_heart_rate</th>\n",
       "      <th>induced_ang</th>\n",
       "      <th>oldpeak</th>\n",
       "      <th>peak_st_seg</th>\n",
       "      <th>major_ves</th>\n",
       "      <th>thal</th>\n",
       "      <th>presence</th>\n",
       "    </tr>\n",
       "  </thead>\n",
       "  <tbody>\n",
       "    <tr>\n",
       "      <th>0</th>\n",
       "      <td>70</td>\n",
       "      <td>1</td>\n",
       "      <td>4</td>\n",
       "      <td>130</td>\n",
       "      <td>322</td>\n",
       "      <td>0</td>\n",
       "      <td>2</td>\n",
       "      <td>109</td>\n",
       "      <td>0</td>\n",
       "      <td>2.4</td>\n",
       "      <td>2</td>\n",
       "      <td>3</td>\n",
       "      <td>3</td>\n",
       "      <td>2</td>\n",
       "    </tr>\n",
       "    <tr>\n",
       "      <th>1</th>\n",
       "      <td>67</td>\n",
       "      <td>0</td>\n",
       "      <td>3</td>\n",
       "      <td>115</td>\n",
       "      <td>564</td>\n",
       "      <td>0</td>\n",
       "      <td>2</td>\n",
       "      <td>160</td>\n",
       "      <td>0</td>\n",
       "      <td>1.6</td>\n",
       "      <td>2</td>\n",
       "      <td>0</td>\n",
       "      <td>7</td>\n",
       "      <td>1</td>\n",
       "    </tr>\n",
       "    <tr>\n",
       "      <th>2</th>\n",
       "      <td>57</td>\n",
       "      <td>1</td>\n",
       "      <td>2</td>\n",
       "      <td>124</td>\n",
       "      <td>261</td>\n",
       "      <td>0</td>\n",
       "      <td>0</td>\n",
       "      <td>141</td>\n",
       "      <td>0</td>\n",
       "      <td>0.3</td>\n",
       "      <td>1</td>\n",
       "      <td>0</td>\n",
       "      <td>7</td>\n",
       "      <td>2</td>\n",
       "    </tr>\n",
       "  </tbody>\n",
       "</table>\n",
       "</div>"
      ],
      "text/plain": [
       "   age  sex  chest_pain  blood_press  serum_chol  blood_sugar  electrocard  \\\n",
       "0   70    1           4          130         322            0            2   \n",
       "1   67    0           3          115         564            0            2   \n",
       "2   57    1           2          124         261            0            0   \n",
       "\n",
       "   max_heart_rate  induced_ang  oldpeak  peak_st_seg  major_ves  thal  \\\n",
       "0             109            0      2.4            2          3     3   \n",
       "1             160            0      1.6            2          0     7   \n",
       "2             141            0      0.3            1          0     7   \n",
       "\n",
       "   presence  \n",
       "0         2  \n",
       "1         1  \n",
       "2         2  "
      ]
     },
     "execution_count": 2,
     "metadata": {},
     "output_type": "execute_result"
    }
   ],
   "source": [
    "### Simulation de données en 2D séparables linéairement\n",
    "#heartData = pd.read_csv('heart_statlog.csv')\n",
    "heartData = pd.read_csv('HeartData.csv', header= None)\n",
    "# Renommage des colonnes \n",
    "heartData.columns = ['age', 'sex', 'chest_pain', 'blood_press', \n",
    "                     'serum_chol', 'blood_sugar', 'electrocard', \n",
    "                     'max_heart_rate', 'induced_ang', 'oldpeak', \n",
    "                     'peak_st_seg', 'major_ves', 'thal', 'presence']\n",
    "\n",
    "# Decoupage de dataset pour les features et label\n",
    "x = heartData.drop('presence', axis=1)\n",
    "y = heartData['presence'].copy()\n",
    "\n",
    "heartData.head(3)"
   ]
  },
  {
   "cell_type": "markdown",
   "metadata": {},
   "source": [
    "<h1>Découpage et normalization des données:</h1>"
   ]
  },
  {
   "cell_type": "code",
   "execution_count": 3,
   "metadata": {},
   "outputs": [],
   "source": [
    "from sklearn.model_selection import train_test_split  \n",
    "# Split des données à entrainer et à tester\n",
    "x_train, x_test, y_train, y_test= train_test_split(x, y, test_size= 0.25, shuffle=False,random_state=0)  \n"
   ]
  },
  {
   "cell_type": "code",
   "execution_count": 4,
   "metadata": {},
   "outputs": [],
   "source": [
    "from sklearn.preprocessing import StandardScaler    \n",
    "# Normalisation des données avec meanScaler(StandardScaler)\n",
    "meanS_x= StandardScaler()    \n",
    "x_train= meanS_x.fit_transform(x_train)  \n",
    "x_test= meanS_x.transform(x_test)  "
   ]
  },
  {
   "cell_type": "markdown",
   "metadata": {},
   "source": [
    "<h1>Hyper parametrage avec Kernel= RBF:</h1>"
   ]
  },
  {
   "cell_type": "code",
   "execution_count": 5,
   "metadata": {
    "scrolled": true
   },
   "outputs": [
    {
     "name": "stdout",
     "output_type": "stream",
     "text": [
      "La valeur de parametre C = 1.0 avec La valeur de parametre gamma = 0.01  donnent Le score :  0.8564356435643564\n",
      "La valeur de parametre C = 1.0 avec La valeur de parametre gamma = 0.1  donnent Le score :  0.9356435643564357\n",
      "La valeur de parametre C = 1.0 avec La valeur de parametre gamma = 1  donnent Le score :  1.0\n",
      "La valeur de parametre C = 1.0 avec La valeur de parametre gamma = 10  donnent Le score :  1.0\n",
      "La valeur de parametre C = 10.0 avec La valeur de parametre gamma = 0.01  donnent Le score :  0.8960396039603961\n",
      "La valeur de parametre C = 10.0 avec La valeur de parametre gamma = 0.1  donnent Le score :  0.995049504950495\n",
      "La valeur de parametre C = 10.0 avec La valeur de parametre gamma = 1  donnent Le score :  1.0\n",
      "La valeur de parametre C = 10.0 avec La valeur de parametre gamma = 10  donnent Le score :  1.0\n",
      "La valeur de parametre C = 100.0 avec La valeur de parametre gamma = 0.01  donnent Le score :  0.9504950495049505\n",
      "La valeur de parametre C = 100.0 avec La valeur de parametre gamma = 0.1  donnent Le score :  1.0\n",
      "La valeur de parametre C = 100.0 avec La valeur de parametre gamma = 1  donnent Le score :  1.0\n",
      "La valeur de parametre C = 100.0 avec La valeur de parametre gamma = 10  donnent Le score :  1.0\n",
      "La valeur de parametre C = 1000.0 avec La valeur de parametre gamma = 0.01  donnent Le score :  0.9900990099009901\n",
      "La valeur de parametre C = 1000.0 avec La valeur de parametre gamma = 0.1  donnent Le score :  1.0\n",
      "La valeur de parametre C = 1000.0 avec La valeur de parametre gamma = 1  donnent Le score :  1.0\n",
      "La valeur de parametre C = 1000.0 avec La valeur de parametre gamma = 10  donnent Le score :  1.0\n",
      "La valeur de parametre C = 10000.0 avec La valeur de parametre gamma = 0.01  donnent Le score :  1.0\n",
      "La valeur de parametre C = 10000.0 avec La valeur de parametre gamma = 0.1  donnent Le score :  1.0\n",
      "La valeur de parametre C = 10000.0 avec La valeur de parametre gamma = 1  donnent Le score :  1.0\n",
      "La valeur de parametre C = 10000.0 avec La valeur de parametre gamma = 10  donnent Le score :  1.0\n"
     ]
    }
   ],
   "source": [
    "#avec Kernel rbf\n",
    "C_2d_range =  [1.e+0, 1.e+1, 1.e+2, 1.e+3, 1.e+4]#np.logspace(0, 4, 5)\n",
    "gamma_2d_range =  [ 0.01,  0.1 ,  1  , 10 ]\n",
    "classifiers = []\n",
    "\n",
    "for C in C_2d_range:\n",
    "    for gamma in gamma_2d_range:\n",
    "        classifier = SVC(kernel='rbf',C=C, gamma=gamma,class_weight='balanced')\n",
    "        classifier.fit(x_train, y_train)\n",
    "        print(\"La valeur de parametre C =\", C,\"avec La valeur de parametre gamma =\",gamma , \" donnent Le score : \",classifier.score(x_train, y_train))"
   ]
  },
  {
   "cell_type": "code",
   "execution_count": null,
   "metadata": {},
   "outputs": [],
   "source": []
  },
  {
   "cell_type": "code",
   "execution_count": 6,
   "metadata": {},
   "outputs": [
    {
     "name": "stdout",
     "output_type": "stream",
     "text": [
      "tn : 37  fp : 1  fn:  23  tp : 7\n",
      "              precision    recall  f1-score   support\n",
      "\n",
      "           1       0.62      0.97      0.76        38\n",
      "           2       0.88      0.23      0.37        30\n",
      "\n",
      "    accuracy                           0.65        68\n",
      "   macro avg       0.75      0.60      0.56        68\n",
      "weighted avg       0.73      0.65      0.58        68\n",
      "\n",
      "Le taux d'erreur est :  0.35294117647058826\n",
      "Confusion matrix\n",
      "[[37  1]\n",
      " [23  7]]\n"
     ]
    },
    {
     "data": {
      "text/plain": [
       "<AxesSubplot:>"
      ]
     },
     "execution_count": 6,
     "metadata": {},
     "output_type": "execute_result"
    },
    {
     "data": {
      "image/png": "[encoded data removed]",
      "text/plain": [
       "<Figure size 432x288 with 2 Axes>"
      ]
     },
     "metadata": {
      "needs_background": "light"
     },
     "output_type": "display_data"
    }
   ],
   "source": [
    "# Kernel RBF\n",
    "from sklearn.metrics import plot_confusion_matrix\n",
    "from sklearn.metrics import confusion_matrix\n",
    "\n",
    "import seaborn as sns \n",
    "\n",
    "classifier = SVC(kernel='rbf',C=1.0, gamma=1.0)\n",
    "Xfit=classifier.fit(x_train,y_train)\n",
    "y_pred = Xfit.predict(x_test)\n",
    "tn, fp, fn, tp=confusion_matrix(y_test,y_pred).ravel()\n",
    "\n",
    "print (\"tn :\" ,tn,\" fp :\",fp,\" fn: \",fn,\" tp :\",tp)\n",
    "\n",
    "# print classification report\n",
    "print(classification_report(y_test, y_pred))\n",
    "#il doit etre 5 fois plus couteux de pr´edire une absence d’attaque cardiaque lorsqu’en r´ealit´e cette attaque cardiaque a lieu\n",
    "print(\"Le taux d'erreur est : \",(fp+fn)/(fn+fp+tp+tn))\n",
    "\n",
    "cf_matrix = confusion_matrix(y_test, y_pred)\n",
    "print(\"Confusion matrix\")\n",
    "print(cf_matrix)\n",
    "sns.heatmap(cf_matrix, annot=True)\n"
   ]
  },
  {
   "cell_type": "markdown",
   "metadata": {},
   "source": [
    "<h1>Hyper parametrage avec Kernel= POLY:</h1>"
   ]
  },
  {
   "cell_type": "code",
   "execution_count": null,
   "metadata": {},
   "outputs": [],
   "source": [
    "C_2d_range =  [1.e+0, 1.e+1, 1.e+2, 1.e+3, 1.e+4]\n",
    "degrees =  [1,2,3,4,5,6,7]\n",
    "classifiers = []\n",
    "for C in C_2d_range:\n",
    "    for degre in degrees:\n",
    "        clf = SVC(kernel='poly',C=C, degree=degre,class_weight='balanced')\n",
    "        clf.fit(x_train, y_train)\n",
    "        print(\"La valeur de parametre C =\", C,\" avec la valeur de degre est =\",degre , \"donnent le score = \",clf.score(x_train, y_train))"
   ]
  },
  {
   "cell_type": "code",
   "execution_count": null,
   "metadata": {},
   "outputs": [],
   "source": []
  },
  {
   "cell_type": "code",
   "execution_count": null,
   "metadata": {},
   "outputs": [],
   "source": [
    "from sklearn.metrics import plot_confusion_matrix\n",
    "from sklearn.metrics import confusion_matrix\n",
    "\n",
    "clf = SVC(kernel='poly',C=100.0, degree=3.0)\n",
    "Xfit=clf.fit(x_train,y_train)\n",
    "y_pred = Xfit.predict(x_test)\n",
    "tn, fp, fn, tp=confusion_matrix(y_test,y_pred).ravel()\n",
    "print (\"tn :\" ,tn,\" fp :\",fp,\" fn: \",fn,\" tp :\",tp)\n",
    "\n",
    "# print classification report\n",
    "print(classification_report(y_test, y_pred))\n",
    "\n",
    "#il doit etre 5 fois plus coˆuteux de pr´edire une absence d’attaque cardiaque lorsqu’en r´ealit´e cette attaque cardiaque a lieu\n",
    "print(\"Le taux d'erreur est : \",(fp+fn)/(tn+tp+fn+fp))\n",
    "\n",
    "cf_matrix = confusion_matrix(y_test, y_pred)\n",
    "print(\"Confusion matrix\")\n",
    "print(cf_matrix)\n",
    "sns.heatmap(cf_matrix, annot=True)\n"
   ]
  },
  {
   "cell_type": "code",
   "execution_count": null,
   "metadata": {},
   "outputs": [],
   "source": []
  }
 ],
 "metadata": {
  "kernelspec": {
   "display_name": "Python 3",
   "language": "python",
   "name": "python3"
  },
  "language_info": {
   "codemirror_mode": {
    "name": "ipython",
    "version": 3
   },
   "file_extension": ".py",
   "mimetype": "text/x-python",
   "name": "python",
   "nbconvert_exporter": "python",
   "pygments_lexer": "ipython3",
   "version": "3.8.5"
  }
 },
 "nbformat": 4,
 "nbformat_minor": 5
}
